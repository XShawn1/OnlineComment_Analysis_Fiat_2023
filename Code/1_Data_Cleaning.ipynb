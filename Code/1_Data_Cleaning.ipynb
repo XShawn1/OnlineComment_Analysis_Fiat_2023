{
 "cells": [
  {
   "cell_type": "code",
   "execution_count": 1,
   "metadata": {},
   "outputs": [],
   "source": [
    "import numpy as np\n",
    "import pandas as pd"
   ]
  },
  {
   "attachments": {},
   "cell_type": "markdown",
   "metadata": {},
   "source": [
    "## 1 Check Data Before Cleaning\n",
    "### Take Tesla data as the sample because It has the largest amount of data, so it's expected to have more obvious null values"
   ]
  },
  {
   "cell_type": "code",
   "execution_count": 4,
   "metadata": {},
   "outputs": [],
   "source": [
    "#### Load data\n",
    "df_post_check = pd.read_csv(\"/Data_Raw/Tesla_post_info.csv\")\n",
    "df_comment_check = pd.read_csv(\"/Data_Raw/Tesla_comment_info.csv\")"
   ]
  },
  {
   "cell_type": "code",
   "execution_count": 21,
   "metadata": {},
   "outputs": [
    {
     "name": "stdout",
     "output_type": "stream",
     "text": [
      "<class 'pandas.core.frame.DataFrame'>\n",
      "RangeIndex: 1343 entries, 0 to 1342\n",
      "Data columns (total 8 columns):\n",
      " #   Column          Non-Null Count  Dtype  \n",
      "---  ------          --------------  -----  \n",
      " 0   Unnamed: 0      1343 non-null   int64  \n",
      " 1   Post_Title      1343 non-null   object \n",
      " 2   Author          1343 non-null   int64  \n",
      " 3   Date            1343 non-null   object \n",
      " 4   Post_Content    1342 non-null   object \n",
      " 5   Comment_Number  1275 non-null   float64\n",
      " 6   Net_Likes       1343 non-null   int64  \n",
      " 7   Views           1343 non-null   int64  \n",
      "dtypes: float64(1), int64(4), object(3)\n",
      "memory usage: 84.1+ KB\n",
      "None\n"
     ]
    }
   ],
   "source": [
    "#### Inspect post data in terms of the size and missing values\n",
    "print(df_post_check.info())"
   ]
  },
  {
   "cell_type": "code",
   "execution_count": 19,
   "metadata": {},
   "outputs": [
    {
     "name": "stdout",
     "output_type": "stream",
     "text": [
      "<class 'pandas.core.frame.DataFrame'>\n",
      "RangeIndex: 707 entries, 0 to 706\n",
      "Data columns (total 8 columns):\n",
      " #   Column           Non-Null Count  Dtype \n",
      "---  ------           --------------  ----- \n",
      " 0   Unnamed: 0       707 non-null    int64 \n",
      " 1   Comment_id       707 non-null    int64 \n",
      " 2   Post_id          707 non-null    object\n",
      " 3   Author           707 non-null    int64 \n",
      " 4   Date             707 non-null    object\n",
      " 5   Comment_Content  707 non-null    object\n",
      " 6   Net_Likes        707 non-null    int64 \n",
      " 7   Reply_id         707 non-null    object\n",
      "dtypes: int64(4), object(4)\n",
      "memory usage: 44.3+ KB\n",
      "None\n"
     ]
    }
   ],
   "source": [
    "#### Inspect comment data in terms of the size and missing values\n",
    "print(df_comment_check.info())"
   ]
  },
  {
   "attachments": {},
   "cell_type": "markdown",
   "metadata": {},
   "source": [
    "## 2 Iterate Data by Brands to Clean\n",
    "### clean the post data first and then clean the comment data"
   ]
  },
  {
   "cell_type": "code",
   "execution_count": 22,
   "metadata": {},
   "outputs": [],
   "source": [
    "#### Create the list of brand name as the search key\n",
    "l_brand = [\"Fiat\", \"Mini\", \"Tesla\", \"Pg\", \"VW\"]\n",
    "#### Create a loop to iterate brands and build up the path to the data files\n",
    "# l_brand = [\"Fiat\"]\n",
    "for i in l_brand:\n",
    "# create paths for post and comment data\n",
    "    path_post = \"/Data_Raw/\" + i + \"_post_info.csv\"\n",
    "    df_post_ori = pd.read_csv(path_post)\n",
    "    path_comment = \"/Data_Raw/\" + i + \"_comment_info.csv\"\n",
    "    df_comment_ori = pd.read_csv(path_comment)\n",
    "\n",
    "    # drop index first\n",
    "    df_post_ori = df_post_ori.drop(\"Unnamed: 0\", axis = 1)\n",
    "    df_comment_ori = df_comment_ori.drop(\"Unnamed: 0\", axis = 1)\n",
    "\n",
    "    # clean the post data\n",
    "    df_post_ori[\"Post_Content\"] = df_post_ori[\"Post_Content\"].fillna(\"None\")\n",
    "    df_post_ori[\"Comment_Number\"] = df_post_ori[\"Comment_Number\"].fillna(0)\n",
    "    # clean the comment data\n",
    "    df_comment_ori[\"Reply_id\"] = df_comment_ori[\"Reply_id\"].fillna(0)\n",
    "    df_comment_ori = df_comment_ori.loc[df_comment_ori[\"Comment_Content\"] != \"None\"]\n",
    "    df_comment_ori = df_comment_ori.dropna()\n",
    "    df_comment_ori = df_comment_ori.reset_index(drop = True)\n",
    "    # Define the phrase to be ignored\n",
    "    ignore_phrase = \"Click to expand\"\n",
    "    # Cut out texts before the phrase (the replied comment)\n",
    "    # for j in df_comment_ori[\"Comment_Content\"]:\n",
    "    #     if ignore_phrase in j:\n",
    "    #         # Only save the part after \"Click to expand\" as the former one is repeated\n",
    "    #         j = j.split(ignore_phrase)[-1]\n",
    "    df_comment_ori[\"Comment_Content\"] = df_comment_ori[\"Comment_Content\"].apply(lambda x: x.split(ignore_phrase)[-1] if ignore_phrase in x else x)\n",
    "    \n",
    "    # create file names for data saving\n",
    "    name_post = i + \"_post_info_c1.csv\"\n",
    "    name_comment = i + \"_comment_info_c1.csv\"\n",
    "    # save the files\n",
    "    df_post_ori.to_csv(name_post, sep=\",\", index=True, header=True)\n",
    "    df_comment_ori.to_csv(name_comment, sep=\",\", index=True, header=True)"
   ]
  },
  {
   "attachments": {},
   "cell_type": "markdown",
   "metadata": {},
   "source": [
    "### Check cleaned data"
   ]
  },
  {
   "cell_type": "code",
   "execution_count": 17,
   "metadata": {},
   "outputs": [],
   "source": [
    "#### Load data\n",
    "df_post_clean_1 = pd.read_csv(\"Fiat_post_info_c1.csv\")\n",
    "df_comment_clean_1 = pd.read_csv(\"Fiat_comment_info_c1.csv\")"
   ]
  },
  {
   "cell_type": "code",
   "execution_count": 18,
   "metadata": {},
   "outputs": [
    {
     "name": "stdout",
     "output_type": "stream",
     "text": [
      "<class 'pandas.core.frame.DataFrame'>\n",
      "RangeIndex: 51 entries, 0 to 50\n",
      "Data columns (total 8 columns):\n",
      " #   Column          Non-Null Count  Dtype  \n",
      "---  ------          --------------  -----  \n",
      " 0   Unnamed: 0      51 non-null     int64  \n",
      " 1   Post_Title      51 non-null     object \n",
      " 2   Author          51 non-null     int64  \n",
      " 3   Date            51 non-null     object \n",
      " 4   Post_Content    51 non-null     object \n",
      " 5   Comment_Number  51 non-null     float64\n",
      " 6   Net_Likes       51 non-null     int64  \n",
      " 7   Views           51 non-null     int64  \n",
      "dtypes: float64(1), int64(4), object(3)\n",
      "memory usage: 3.3+ KB\n",
      "None\n",
      "<class 'pandas.core.frame.DataFrame'>\n",
      "RangeIndex: 51 entries, 0 to 50\n",
      "Data columns (total 8 columns):\n",
      " #   Column          Non-Null Count  Dtype  \n",
      "---  ------          --------------  -----  \n",
      " 0   Unnamed: 0      51 non-null     int64  \n",
      " 1   Post_Title      51 non-null     object \n",
      " 2   Author          51 non-null     int64  \n",
      " 3   Date            51 non-null     object \n",
      " 4   Post_Content    51 non-null     object \n",
      " 5   Comment_Number  51 non-null     float64\n",
      " 6   Net_Likes       51 non-null     int64  \n",
      " 7   Views           51 non-null     int64  \n",
      "dtypes: float64(1), int64(4), object(3)\n",
      "memory usage: 3.3+ KB\n",
      "None\n"
     ]
    }
   ],
   "source": [
    "#### Inspect post data in terms of the size and missing values\n",
    "print(df_post_clean_1.info())"
   ]
  },
  {
   "cell_type": "code",
   "execution_count": 19,
   "metadata": {},
   "outputs": [
    {
     "name": "stdout",
     "output_type": "stream",
     "text": [
      "<class 'pandas.core.frame.DataFrame'>\n",
      "RangeIndex: 730 entries, 0 to 729\n",
      "Data columns (total 8 columns):\n",
      " #   Column           Non-Null Count  Dtype  \n",
      "---  ------           --------------  -----  \n",
      " 0   Unnamed: 0       730 non-null    int64  \n",
      " 1   Comment_id       730 non-null    int64  \n",
      " 2   Post_id          730 non-null    int64  \n",
      " 3   Author           730 non-null    int64  \n",
      " 4   Date             730 non-null    object \n",
      " 5   Comment_Content  730 non-null    object \n",
      " 6   Net_Likes        730 non-null    int64  \n",
      " 7   Reply_id         305 non-null    float64\n",
      "dtypes: float64(1), int64(5), object(2)\n",
      "memory usage: 45.8+ KB\n",
      "None\n",
      "<class 'pandas.core.frame.DataFrame'>\n",
      "RangeIndex: 730 entries, 0 to 729\n",
      "Data columns (total 8 columns):\n",
      " #   Column           Non-Null Count  Dtype  \n",
      "---  ------           --------------  -----  \n",
      " 0   Unnamed: 0       730 non-null    int64  \n",
      " 1   Comment_id       730 non-null    int64  \n",
      " 2   Post_id          730 non-null    int64  \n",
      " 3   Author           730 non-null    int64  \n",
      " 4   Date             730 non-null    object \n",
      " 5   Comment_Content  730 non-null    object \n",
      " 6   Net_Likes        730 non-null    int64  \n",
      " 7   Reply_id         730 non-null    float64\n",
      "dtypes: float64(1), int64(5), object(2)\n",
      "memory usage: 45.8+ KB\n",
      "None\n"
     ]
    }
   ],
   "source": [
    "#### Inspect comment data in terms of the size and missing values\n",
    "print(df_comment_clean_1.info())"
   ]
  }
 ],
 "metadata": {
  "kernelspec": {
   "display_name": "base",
   "language": "python",
   "name": "python3"
  },
  "language_info": {
   "codemirror_mode": {
    "name": "ipython",
    "version": 3
   },
   "file_extension": ".py",
   "mimetype": "text/x-python",
   "name": "python",
   "nbconvert_exporter": "python",
   "pygments_lexer": "ipython3",
   "version": "3.9.16"
  },
  "orig_nbformat": 4
 },
 "nbformat": 4,
 "nbformat_minor": 2
}
